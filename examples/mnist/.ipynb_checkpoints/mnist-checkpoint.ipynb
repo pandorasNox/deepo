{
 "cells": [
  {
   "cell_type": "code",
   "execution_count": 29,
   "metadata": {},
   "outputs": [],
   "source": [
    "import torch\n",
    "import torch.nn as nn\n",
    "import torch.nn.functional as F\n",
    "import torch.optim as optim\n",
    "from torchvision import datasets, transforms"
   ]
  },
  {
   "cell_type": "code",
   "execution_count": 30,
   "metadata": {},
   "outputs": [],
   "source": [
    "class Net(nn.Module):\n",
    "    def __init__(self):\n",
    "        super(Net, self).__init__()\n",
    "        self.conv1 = nn.Conv2d(1, 20, 5, 1)\n",
    "        self.conv2 = nn.Conv2d(20, 50, 5, 1)\n",
    "        self.fc1 = nn.Linear(4*4*50, 500)\n",
    "        self.fc2 = nn.Linear(500, 10)\n",
    "\n",
    "    def forward(self, x):\n",
    "        x = F.relu(self.conv1(x))\n",
    "        x = F.max_pool2d(x, 2, 2)\n",
    "        x = F.relu(self.conv2(x))\n",
    "        x = F.max_pool2d(x, 2, 2)\n",
    "        x = x.view(-1, 4*4*50)\n",
    "        x = F.relu(self.fc1(x))\n",
    "        x = self.fc2(x)\n",
    "        return F.log_softmax(x, dim=1)"
   ]
  },
  {
   "cell_type": "code",
   "execution_count": 31,
   "metadata": {},
   "outputs": [],
   "source": [
    "def train(model, device, train_loader, optimizer, epoch, log_interval):\n",
    "    model.train()\n",
    "    for batch_idx, (data, target) in enumerate(train_loader):\n",
    "        data, target = data.to(device), target.to(device)\n",
    "        optimizer.zero_grad()\n",
    "        output = model(data)\n",
    "        loss = F.nll_loss(output, target)\n",
    "        loss.backward()\n",
    "        optimizer.step()\n",
    "        if batch_idx % log_interval == 0:\n",
    "            print('Train Epoch: {} [{}/{} ({:.0f}%)]\\tLoss: {:.6f}'.format(\n",
    "                epoch, batch_idx * len(data), len(train_loader.dataset),\n",
    "                100. * batch_idx / len(train_loader), loss.item()))"
   ]
  },
  {
   "cell_type": "code",
   "execution_count": 32,
   "metadata": {},
   "outputs": [],
   "source": [
    "def test(model, device, test_loader):\n",
    "    model.eval()\n",
    "    test_loss = 0\n",
    "    correct = 0\n",
    "    with torch.no_grad():\n",
    "        for data, target in test_loader:\n",
    "            data, target = data.to(device), target.to(device)\n",
    "            output = model(data)\n",
    "            test_loss += F.nll_loss(output, target, reduction='sum').item() # sum up batch loss\n",
    "            pred = output.max(1, keepdim=True)[1] # get the index of the max log-probability\n",
    "            correct += pred.eq(target.view_as(pred)).sum().item()\n",
    "\n",
    "    test_loss /= len(test_loader.dataset)\n",
    "\n",
    "    print('\\nTest set: Average loss: {:.4f}, Accuracy: {}/{} ({:.0f}%)\\n'.format(\n",
    "        test_loss, correct, len(test_loader.dataset),\n",
    "        100. * correct / len(test_loader.dataset)))"
   ]
  },
  {
   "cell_type": "code",
   "execution_count": 33,
   "metadata": {},
   "outputs": [],
   "source": [
    "log_interval = 64;\n",
    "batch_size = 64;\n",
    "test_batch_size = 64;\n",
    "\n",
    "use_cuda = False; #not args.no_cuda and torch.cuda.is_available()\n",
    "torch.manual_seed(1); #args.seed\n",
    "device = torch.device(\"cuda\" if use_cuda else \"cpu\");\n",
    "kwargs = {'num_workers': 1, 'pin_memory': True} if use_cuda else {};\n",
    "\n",
    "lr = 0.01;\n",
    "momentum = 0.5;"
   ]
  },
  {
   "cell_type": "code",
   "execution_count": 34,
   "metadata": {},
   "outputs": [],
   "source": [
    "train_loader = torch.utils.data.DataLoader(\n",
    "    datasets.MNIST('./data', train=True, download=True,\n",
    "                   transform=transforms.Compose([\n",
    "                       transforms.ToTensor(),\n",
    "                       transforms.Normalize((0.1307,), (0.3081,))\n",
    "                   ])),\n",
    "    batch_size=batch_size, shuffle=True, **kwargs\n",
    ")"
   ]
  },
  {
   "cell_type": "code",
   "execution_count": 35,
   "metadata": {},
   "outputs": [],
   "source": [
    "test_loader = torch.utils.data.DataLoader(\n",
    "    datasets.MNIST('./data', train=False,\n",
    "                   transform=transforms.Compose([\n",
    "                       transforms.ToTensor(),\n",
    "                       transforms.Normalize((0.1307,), (0.3081,))\n",
    "                   ])),\n",
    "    batch_size=test_batch_size, shuffle=True, **kwargs\n",
    ")"
   ]
  },
  {
   "cell_type": "code",
   "execution_count": 36,
   "metadata": {},
   "outputs": [],
   "source": [
    "model = Net().to(device);\n",
    "optimizer = optim.SGD(model.parameters(), lr=lr, momentum=momentum);"
   ]
  },
  {
   "cell_type": "code",
   "execution_count": 16,
   "metadata": {},
   "outputs": [
    {
     "name": "stdout",
     "output_type": "stream",
     "text": [
      "Train Epoch: 1 [0/60000 (0%)]\tLoss: 2.300039\n",
      "Train Epoch: 1 [4096/60000 (7%)]\tLoss: 1.008566\n",
      "Train Epoch: 1 [8192/60000 (14%)]\tLoss: 0.320848\n",
      "Train Epoch: 1 [12288/60000 (20%)]\tLoss: 0.242480\n",
      "Train Epoch: 1 [16384/60000 (27%)]\tLoss: 0.403922\n",
      "Train Epoch: 1 [20480/60000 (34%)]\tLoss: 0.190887\n",
      "Train Epoch: 1 [24576/60000 (41%)]\tLoss: 0.195735\n",
      "Train Epoch: 1 [28672/60000 (48%)]\tLoss: 0.216308\n",
      "Train Epoch: 1 [32768/60000 (55%)]\tLoss: 0.237905\n",
      "Train Epoch: 1 [36864/60000 (61%)]\tLoss: 0.216495\n",
      "Train Epoch: 1 [40960/60000 (68%)]\tLoss: 0.177933\n",
      "Train Epoch: 1 [45056/60000 (75%)]\tLoss: 0.149348\n",
      "Train Epoch: 1 [49152/60000 (82%)]\tLoss: 0.188890\n",
      "Train Epoch: 1 [53248/60000 (89%)]\tLoss: 0.084738\n",
      "Train Epoch: 1 [57344/60000 (96%)]\tLoss: 0.086675\n",
      "\n",
      "Test set: Average loss: 0.1020, Accuracy: 9657/10000 (97%)\n",
      "\n",
      "Train Epoch: 2 [0/60000 (0%)]\tLoss: 0.146011\n",
      "Train Epoch: 2 [4096/60000 (7%)]\tLoss: 0.043742\n",
      "Train Epoch: 2 [8192/60000 (14%)]\tLoss: 0.133921\n",
      "Train Epoch: 2 [12288/60000 (20%)]\tLoss: 0.045658\n",
      "Train Epoch: 2 [16384/60000 (27%)]\tLoss: 0.039758\n",
      "Train Epoch: 2 [20480/60000 (34%)]\tLoss: 0.073849\n",
      "Train Epoch: 2 [24576/60000 (41%)]\tLoss: 0.021015\n",
      "Train Epoch: 2 [28672/60000 (48%)]\tLoss: 0.146372\n",
      "Train Epoch: 2 [32768/60000 (55%)]\tLoss: 0.030803\n",
      "Train Epoch: 2 [36864/60000 (61%)]\tLoss: 0.169259\n",
      "Train Epoch: 2 [40960/60000 (68%)]\tLoss: 0.077299\n",
      "Train Epoch: 2 [45056/60000 (75%)]\tLoss: 0.006150\n",
      "Train Epoch: 2 [49152/60000 (82%)]\tLoss: 0.039700\n",
      "Train Epoch: 2 [53248/60000 (89%)]\tLoss: 0.039228\n",
      "Train Epoch: 2 [57344/60000 (96%)]\tLoss: 0.051199\n",
      "\n",
      "Test set: Average loss: 0.0615, Accuracy: 9827/10000 (98%)\n",
      "\n",
      "Train Epoch: 3 [0/60000 (0%)]\tLoss: 0.054346\n",
      "Train Epoch: 3 [4096/60000 (7%)]\tLoss: 0.100084\n",
      "Train Epoch: 3 [8192/60000 (14%)]\tLoss: 0.038307\n",
      "Train Epoch: 3 [12288/60000 (20%)]\tLoss: 0.107503\n",
      "Train Epoch: 3 [16384/60000 (27%)]\tLoss: 0.010805\n",
      "Train Epoch: 3 [20480/60000 (34%)]\tLoss: 0.096544\n",
      "Train Epoch: 3 [24576/60000 (41%)]\tLoss: 0.011097\n",
      "Train Epoch: 3 [28672/60000 (48%)]\tLoss: 0.087035\n",
      "Train Epoch: 3 [32768/60000 (55%)]\tLoss: 0.144744\n",
      "Train Epoch: 3 [36864/60000 (61%)]\tLoss: 0.011774\n",
      "Train Epoch: 3 [40960/60000 (68%)]\tLoss: 0.015908\n",
      "Train Epoch: 3 [45056/60000 (75%)]\tLoss: 0.051725\n",
      "Train Epoch: 3 [49152/60000 (82%)]\tLoss: 0.030213\n",
      "Train Epoch: 3 [53248/60000 (89%)]\tLoss: 0.017024\n",
      "Train Epoch: 3 [57344/60000 (96%)]\tLoss: 0.097586\n",
      "\n",
      "Test set: Average loss: 0.0566, Accuracy: 9809/10000 (98%)\n",
      "\n"
     ]
    }
   ],
   "source": [
    "epochs = 3\n",
    "for epoch in range(1, epochs + 1):\n",
    "    train(model, device, train_loader, optimizer, epoch, log_interval)\n",
    "    test(model, device, test_loader)"
   ]
  },
  {
   "cell_type": "code",
   "execution_count": 37,
   "metadata": {},
   "outputs": [],
   "source": [
    "test_data_loader_index = 3"
   ]
  },
  {
   "cell_type": "code",
   "execution_count": 38,
   "metadata": {},
   "outputs": [],
   "source": [
    "import matplotlib\n",
    "import matplotlib.pyplot as plt\n",
    "import numpy as np"
   ]
  },
  {
   "cell_type": "code",
   "execution_count": 39,
   "metadata": {},
   "outputs": [
    {
     "data": {
      "image/png": "[encoded data removed]",
      "text/plain": [
       "<Figure size 432x288 with 1 Axes>"
      ]
     },
     "metadata": {},
     "output_type": "display_data"
    }
   ],
   "source": [
    "def plot_image(image):\n",
    "    \"Plot a MNIST image.\"\n",
    "    fig = plt.figure()\n",
    "    ax = fig.add_subplot(4, 1, 1)\n",
    "    ax.matshow(image, cmap = matplotlib.cm.binary)\n",
    "    plt.xticks(np.array([]))\n",
    "    plt.yticks(np.array([]))\n",
    "    plt.show()\n",
    "\n",
    "plot_image(test_loader.dataset.data[test_data_loader_index])"
   ]
  },
  {
   "cell_type": "code",
   "execution_count": 44,
   "metadata": {},
   "outputs": [
    {
     "name": "stdout",
     "output_type": "stream",
     "text": [
      "raw_prediction:\n",
      "tensor([[    0.0000, -1605.2495, -1030.9363, -1406.3647, -1559.6660, -1306.9143,\n",
      "          -876.2638, -1404.1394, -1336.6210, -1022.8268]],\n",
      "       grad_fn=<LogSoftmaxBackward>)\n",
      "\n",
      "maxed_prediction:\n",
      "0\n",
      "\n"
     ]
    }
   ],
   "source": [
    "single_loaded_img = test_loader.dataset.data[test_data_loader_index]\n",
    "#print(single_loaded_img)\n",
    "single_loaded_img = single_loaded_img.to(device)\n",
    "single_loaded_img = single_loaded_img[None, None]\n",
    "#single_loaded_img = single_loaded_img.type('torch.DoubleTensor')\n",
    "single_loaded_img = single_loaded_img.type('torch.FloatTensor')\n",
    "\n",
    "\n",
    "#single_loaded_img = Variable(single_loaded_img) #depricated\n",
    "#print(single_loaded_img)\n",
    "raw_prediction = model(single_loaded_img)\n",
    "print(\"raw_prediction:\")\n",
    "print(raw_prediction)\n",
    "print(\"\")\n",
    "\n",
    "\n",
    "maxed_prediction = raw_prediction.max(1, keepdim=True)[1]\n",
    "print(\"maxed_prediction:\")\n",
    "print(maxed_prediction.item())\n",
    "print(\"\")\n",
    "\n",
    "\n",
    "def predict_image(image):\n",
    "    image_tensor = image.unsqueeze_(0)\n",
    "    image_tensor = image_tensor.unsqueeze_(0)\n",
    "    input = Variable(image_tensor)\n",
    "    input = input.to(device)\n",
    "    output = model(input)\n",
    "    #return output\n",
    "    #index = output.data.cpu().numpy().argmax()\n",
    "    #return index\n",
    "\n",
    "#out_predict = model(single_loaded_img)\n",
    "\n",
    "#out_predict = predict_image(single_loaded_img)"
   ]
  },
  {
   "cell_type": "code",
   "execution_count": 41,
   "metadata": {},
   "outputs": [],
   "source": [
    "model_path = \"/workspace/examples/mnist/model.pth\""
   ]
  },
  {
   "cell_type": "code",
   "execution_count": 24,
   "metadata": {},
   "outputs": [],
   "source": [
    "\n",
    "\n",
    "# save model\n",
    "torch.save(model.state_dict(), model_path)\n"
   ]
  },
  {
   "cell_type": "code",
   "execution_count": 42,
   "metadata": {},
   "outputs": [
    {
     "name": "stdout",
     "output_type": "stream",
     "text": [
      "data  mnist.ipynb  model.pth\r\n"
     ]
    }
   ],
   "source": [
    "! ls"
   ]
  },
  {
   "cell_type": "code",
   "execution_count": 43,
   "metadata": {
    "scrolled": true
   },
   "outputs": [
    {
     "data": {
      "text/plain": [
       "Net(\n",
       "  (conv1): Conv2d(1, 20, kernel_size=(5, 5), stride=(1, 1))\n",
       "  (conv2): Conv2d(20, 50, kernel_size=(5, 5), stride=(1, 1))\n",
       "  (fc1): Linear(in_features=800, out_features=500, bias=True)\n",
       "  (fc2): Linear(in_features=500, out_features=10, bias=True)\n",
       ")"
      ]
     },
     "execution_count": 43,
     "metadata": {},
     "output_type": "execute_result"
    }
   ],
   "source": [
    "# load model\n",
    "#model = TheModelClass(*args, **kwargs)\n",
    "model.load_state_dict(torch.load(model_path))\n",
    "model.eval()"
   ]
  },
  {
   "cell_type": "code",
   "execution_count": null,
   "metadata": {},
   "outputs": [],
   "source": []
  }
 ],
 "metadata": {
  "kernelspec": {
   "display_name": "Python 3",
   "language": "python",
   "name": "python3"
  },
  "language_info": {
   "codemirror_mode": {
    "name": "ipython",
    "version": 3
   },
   "file_extension": ".py",
   "mimetype": "text/x-python",
   "name": "python",
   "nbconvert_exporter": "python",
   "pygments_lexer": "ipython3",
   "version": "3.6.9"
  }
 },
 "nbformat": 4,
 "nbformat_minor": 4
}
